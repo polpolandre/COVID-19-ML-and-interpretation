{
  "nbformat": 4,
  "nbformat_minor": 0,
  "metadata": {
    "colab": {
      "name": "Excess_mortality_regression.ipynb",
      "provenance": [],
      "collapsed_sections": []
    },
    "kernelspec": {
      "name": "python3",
      "display_name": "Python 3"
    },
    "language_info": {
      "name": "python"
    }
  },
  "cells": [
    {
      "cell_type": "code",
      "execution_count": null,
      "metadata": {
        "id": "9WkW-7Esw11H"
      },
      "outputs": [],
      "source": [
        "import pandas as pd\n",
        "import numpy as np\n",
        "import matplotlib.pyplot as plt"
      ]
    },
    {
      "cell_type": "code",
      "source": [
        "data = pd.read_csv(\"owid-covid-data.csv\")\n",
        "data"
      ],
      "metadata": {
        "colab": {
          "base_uri": "https://localhost:8080/",
          "height": 661
        },
        "id": "uKZmF0dVxAbP",
        "outputId": "4b2d6422-3371-44ce-9a2c-aadae1654949"
      },
      "execution_count": null,
      "outputs": [
        {
          "output_type": "execute_result",
          "data": {
            "text/plain": [
              "       iso_code continent     location        date  total_cases  new_cases  \\\n",
              "0           AFG      Asia  Afghanistan  2020-02-24          5.0        5.0   \n",
              "1           AFG      Asia  Afghanistan  2020-02-25          5.0        0.0   \n",
              "2           AFG      Asia  Afghanistan  2020-02-26          5.0        0.0   \n",
              "3           AFG      Asia  Afghanistan  2020-02-27          5.0        0.0   \n",
              "4           AFG      Asia  Afghanistan  2020-02-28          5.0        0.0   \n",
              "...         ...       ...          ...         ...          ...        ...   \n",
              "210208      ZWE    Africa     Zimbabwe  2022-08-16     256561.0       17.0   \n",
              "210209      ZWE    Africa     Zimbabwe  2022-08-17     256565.0        4.0   \n",
              "210210      ZWE    Africa     Zimbabwe  2022-08-18     256579.0       14.0   \n",
              "210211      ZWE    Africa     Zimbabwe  2022-08-19     256596.0       17.0   \n",
              "210212      ZWE    Africa     Zimbabwe  2022-08-20     256616.0       20.0   \n",
              "\n",
              "        new_cases_smoothed  total_deaths  new_deaths  new_deaths_smoothed  \\\n",
              "0                      NaN           NaN         NaN                  NaN   \n",
              "1                      NaN           NaN         NaN                  NaN   \n",
              "2                      NaN           NaN         NaN                  NaN   \n",
              "3                      NaN           NaN         NaN                  NaN   \n",
              "4                      NaN           NaN         NaN                  NaN   \n",
              "...                    ...           ...         ...                  ...   \n",
              "210208              10.143        5588.0         0.0                0.286   \n",
              "210209              10.429        5588.0         0.0                0.143   \n",
              "210210               9.429        5589.0         1.0                0.286   \n",
              "210211              10.571        5589.0         0.0                0.286   \n",
              "210212              13.429        5592.0         3.0                0.714   \n",
              "\n",
              "        ...  female_smokers  male_smokers  handwashing_facilities  \\\n",
              "0       ...             NaN           NaN                  37.746   \n",
              "1       ...             NaN           NaN                  37.746   \n",
              "2       ...             NaN           NaN                  37.746   \n",
              "3       ...             NaN           NaN                  37.746   \n",
              "4       ...             NaN           NaN                  37.746   \n",
              "...     ...             ...           ...                     ...   \n",
              "210208  ...             1.6          30.7                  36.791   \n",
              "210209  ...             1.6          30.7                  36.791   \n",
              "210210  ...             1.6          30.7                  36.791   \n",
              "210211  ...             1.6          30.7                  36.791   \n",
              "210212  ...             1.6          30.7                  36.791   \n",
              "\n",
              "        hospital_beds_per_thousand  life_expectancy  human_development_index  \\\n",
              "0                              0.5            64.83                    0.511   \n",
              "1                              0.5            64.83                    0.511   \n",
              "2                              0.5            64.83                    0.511   \n",
              "3                              0.5            64.83                    0.511   \n",
              "4                              0.5            64.83                    0.511   \n",
              "...                            ...              ...                      ...   \n",
              "210208                         1.7            61.49                    0.571   \n",
              "210209                         1.7            61.49                    0.571   \n",
              "210210                         1.7            61.49                    0.571   \n",
              "210211                         1.7            61.49                    0.571   \n",
              "210212                         1.7            61.49                    0.571   \n",
              "\n",
              "        excess_mortality_cumulative_absolute  excess_mortality_cumulative  \\\n",
              "0                                        NaN                          NaN   \n",
              "1                                        NaN                          NaN   \n",
              "2                                        NaN                          NaN   \n",
              "3                                        NaN                          NaN   \n",
              "4                                        NaN                          NaN   \n",
              "...                                      ...                          ...   \n",
              "210208                                   NaN                          NaN   \n",
              "210209                                   NaN                          NaN   \n",
              "210210                                   NaN                          NaN   \n",
              "210211                                   NaN                          NaN   \n",
              "210212                                   NaN                          NaN   \n",
              "\n",
              "        excess_mortality  excess_mortality_cumulative_per_million  \n",
              "0                    NaN                                      NaN  \n",
              "1                    NaN                                      NaN  \n",
              "2                    NaN                                      NaN  \n",
              "3                    NaN                                      NaN  \n",
              "4                    NaN                                      NaN  \n",
              "...                  ...                                      ...  \n",
              "210208               NaN                                      NaN  \n",
              "210209               NaN                                      NaN  \n",
              "210210               NaN                                      NaN  \n",
              "210211               NaN                                      NaN  \n",
              "210212               NaN                                      NaN  \n",
              "\n",
              "[210213 rows x 67 columns]"
            ],
            "text/html": [
              "\n",
              "  <div id=\"df-4f877dfc-bb80-4224-b987-4c3c10741057\">\n",
              "    <div class=\"colab-df-container\">\n",
              "      <div>\n",
              "<style scoped>\n",
              "    .dataframe tbody tr th:only-of-type {\n",
              "        vertical-align: middle;\n",
              "    }\n",
              "\n",
              "    .dataframe tbody tr th {\n",
              "        vertical-align: top;\n",
              "    }\n",
              "\n",
              "    .dataframe thead th {\n",
              "        text-align: right;\n",
              "    }\n",
              "</style>\n",
              "<table border=\"1\" class=\"dataframe\">\n",
              "  <thead>\n",
              "    <tr style=\"text-align: right;\">\n",
              "      <th></th>\n",
              "      <th>iso_code</th>\n",
              "      <th>continent</th>\n",
              "      <th>location</th>\n",
              "      <th>date</th>\n",
              "      <th>total_cases</th>\n",
              "      <th>new_cases</th>\n",
              "      <th>new_cases_smoothed</th>\n",
              "      <th>total_deaths</th>\n",
              "      <th>new_deaths</th>\n",
              "      <th>new_deaths_smoothed</th>\n",
              "      <th>...</th>\n",
              "      <th>female_smokers</th>\n",
              "      <th>male_smokers</th>\n",
              "      <th>handwashing_facilities</th>\n",
              "      <th>hospital_beds_per_thousand</th>\n",
              "      <th>life_expectancy</th>\n",
              "      <th>human_development_index</th>\n",
              "      <th>excess_mortality_cumulative_absolute</th>\n",
              "      <th>excess_mortality_cumulative</th>\n",
              "      <th>excess_mortality</th>\n",
              "      <th>excess_mortality_cumulative_per_million</th>\n",
              "    </tr>\n",
              "  </thead>\n",
              "  <tbody>\n",
              "    <tr>\n",
              "      <th>0</th>\n",
              "      <td>AFG</td>\n",
              "      <td>Asia</td>\n",
              "      <td>Afghanistan</td>\n",
              "      <td>2020-02-24</td>\n",
              "      <td>5.0</td>\n",
              "      <td>5.0</td>\n",
              "      <td>NaN</td>\n",
              "      <td>NaN</td>\n",
              "      <td>NaN</td>\n",
              "      <td>NaN</td>\n",
              "      <td>...</td>\n",
              "      <td>NaN</td>\n",
              "      <td>NaN</td>\n",
              "      <td>37.746</td>\n",
              "      <td>0.5</td>\n",
              "      <td>64.83</td>\n",
              "      <td>0.511</td>\n",
              "      <td>NaN</td>\n",
              "      <td>NaN</td>\n",
              "      <td>NaN</td>\n",
              "      <td>NaN</td>\n",
              "    </tr>\n",
              "    <tr>\n",
              "      <th>1</th>\n",
              "      <td>AFG</td>\n",
              "      <td>Asia</td>\n",
              "      <td>Afghanistan</td>\n",
              "      <td>2020-02-25</td>\n",
              "      <td>5.0</td>\n",
              "      <td>0.0</td>\n",
              "      <td>NaN</td>\n",
              "      <td>NaN</td>\n",
              "      <td>NaN</td>\n",
              "      <td>NaN</td>\n",
              "      <td>...</td>\n",
              "      <td>NaN</td>\n",
              "      <td>NaN</td>\n",
              "      <td>37.746</td>\n",
              "      <td>0.5</td>\n",
              "      <td>64.83</td>\n",
              "      <td>0.511</td>\n",
              "      <td>NaN</td>\n",
              "      <td>NaN</td>\n",
              "      <td>NaN</td>\n",
              "      <td>NaN</td>\n",
              "    </tr>\n",
              "    <tr>\n",
              "      <th>2</th>\n",
              "      <td>AFG</td>\n",
              "      <td>Asia</td>\n",
              "      <td>Afghanistan</td>\n",
              "      <td>2020-02-26</td>\n",
              "      <td>5.0</td>\n",
              "      <td>0.0</td>\n",
              "      <td>NaN</td>\n",
              "      <td>NaN</td>\n",
              "      <td>NaN</td>\n",
              "      <td>NaN</td>\n",
              "      <td>...</td>\n",
              "      <td>NaN</td>\n",
              "      <td>NaN</td>\n",
              "      <td>37.746</td>\n",
              "      <td>0.5</td>\n",
              "      <td>64.83</td>\n",
              "      <td>0.511</td>\n",
              "      <td>NaN</td>\n",
              "      <td>NaN</td>\n",
              "      <td>NaN</td>\n",
              "      <td>NaN</td>\n",
              "    </tr>\n",
              "    <tr>\n",
              "      <th>3</th>\n",
              "      <td>AFG</td>\n",
              "      <td>Asia</td>\n",
              "      <td>Afghanistan</td>\n",
              "      <td>2020-02-27</td>\n",
              "      <td>5.0</td>\n",
              "      <td>0.0</td>\n",
              "      <td>NaN</td>\n",
              "      <td>NaN</td>\n",
              "      <td>NaN</td>\n",
              "      <td>NaN</td>\n",
              "      <td>...</td>\n",
              "      <td>NaN</td>\n",
              "      <td>NaN</td>\n",
              "      <td>37.746</td>\n",
              "      <td>0.5</td>\n",
              "      <td>64.83</td>\n",
              "      <td>0.511</td>\n",
              "      <td>NaN</td>\n",
              "      <td>NaN</td>\n",
              "      <td>NaN</td>\n",
              "      <td>NaN</td>\n",
              "    </tr>\n",
              "    <tr>\n",
              "      <th>4</th>\n",
              "      <td>AFG</td>\n",
              "      <td>Asia</td>\n",
              "      <td>Afghanistan</td>\n",
              "      <td>2020-02-28</td>\n",
              "      <td>5.0</td>\n",
              "      <td>0.0</td>\n",
              "      <td>NaN</td>\n",
              "      <td>NaN</td>\n",
              "      <td>NaN</td>\n",
              "      <td>NaN</td>\n",
              "      <td>...</td>\n",
              "      <td>NaN</td>\n",
              "      <td>NaN</td>\n",
              "      <td>37.746</td>\n",
              "      <td>0.5</td>\n",
              "      <td>64.83</td>\n",
              "      <td>0.511</td>\n",
              "      <td>NaN</td>\n",
              "      <td>NaN</td>\n",
              "      <td>NaN</td>\n",
              "      <td>NaN</td>\n",
              "    </tr>\n",
              "    <tr>\n",
              "      <th>...</th>\n",
              "      <td>...</td>\n",
              "      <td>...</td>\n",
              "      <td>...</td>\n",
              "      <td>...</td>\n",
              "      <td>...</td>\n",
              "      <td>...</td>\n",
              "      <td>...</td>\n",
              "      <td>...</td>\n",
              "      <td>...</td>\n",
              "      <td>...</td>\n",
              "      <td>...</td>\n",
              "      <td>...</td>\n",
              "      <td>...</td>\n",
              "      <td>...</td>\n",
              "      <td>...</td>\n",
              "      <td>...</td>\n",
              "      <td>...</td>\n",
              "      <td>...</td>\n",
              "      <td>...</td>\n",
              "      <td>...</td>\n",
              "      <td>...</td>\n",
              "    </tr>\n",
              "    <tr>\n",
              "      <th>210208</th>\n",
              "      <td>ZWE</td>\n",
              "      <td>Africa</td>\n",
              "      <td>Zimbabwe</td>\n",
              "      <td>2022-08-16</td>\n",
              "      <td>256561.0</td>\n",
              "      <td>17.0</td>\n",
              "      <td>10.143</td>\n",
              "      <td>5588.0</td>\n",
              "      <td>0.0</td>\n",
              "      <td>0.286</td>\n",
              "      <td>...</td>\n",
              "      <td>1.6</td>\n",
              "      <td>30.7</td>\n",
              "      <td>36.791</td>\n",
              "      <td>1.7</td>\n",
              "      <td>61.49</td>\n",
              "      <td>0.571</td>\n",
              "      <td>NaN</td>\n",
              "      <td>NaN</td>\n",
              "      <td>NaN</td>\n",
              "      <td>NaN</td>\n",
              "    </tr>\n",
              "    <tr>\n",
              "      <th>210209</th>\n",
              "      <td>ZWE</td>\n",
              "      <td>Africa</td>\n",
              "      <td>Zimbabwe</td>\n",
              "      <td>2022-08-17</td>\n",
              "      <td>256565.0</td>\n",
              "      <td>4.0</td>\n",
              "      <td>10.429</td>\n",
              "      <td>5588.0</td>\n",
              "      <td>0.0</td>\n",
              "      <td>0.143</td>\n",
              "      <td>...</td>\n",
              "      <td>1.6</td>\n",
              "      <td>30.7</td>\n",
              "      <td>36.791</td>\n",
              "      <td>1.7</td>\n",
              "      <td>61.49</td>\n",
              "      <td>0.571</td>\n",
              "      <td>NaN</td>\n",
              "      <td>NaN</td>\n",
              "      <td>NaN</td>\n",
              "      <td>NaN</td>\n",
              "    </tr>\n",
              "    <tr>\n",
              "      <th>210210</th>\n",
              "      <td>ZWE</td>\n",
              "      <td>Africa</td>\n",
              "      <td>Zimbabwe</td>\n",
              "      <td>2022-08-18</td>\n",
              "      <td>256579.0</td>\n",
              "      <td>14.0</td>\n",
              "      <td>9.429</td>\n",
              "      <td>5589.0</td>\n",
              "      <td>1.0</td>\n",
              "      <td>0.286</td>\n",
              "      <td>...</td>\n",
              "      <td>1.6</td>\n",
              "      <td>30.7</td>\n",
              "      <td>36.791</td>\n",
              "      <td>1.7</td>\n",
              "      <td>61.49</td>\n",
              "      <td>0.571</td>\n",
              "      <td>NaN</td>\n",
              "      <td>NaN</td>\n",
              "      <td>NaN</td>\n",
              "      <td>NaN</td>\n",
              "    </tr>\n",
              "    <tr>\n",
              "      <th>210211</th>\n",
              "      <td>ZWE</td>\n",
              "      <td>Africa</td>\n",
              "      <td>Zimbabwe</td>\n",
              "      <td>2022-08-19</td>\n",
              "      <td>256596.0</td>\n",
              "      <td>17.0</td>\n",
              "      <td>10.571</td>\n",
              "      <td>5589.0</td>\n",
              "      <td>0.0</td>\n",
              "      <td>0.286</td>\n",
              "      <td>...</td>\n",
              "      <td>1.6</td>\n",
              "      <td>30.7</td>\n",
              "      <td>36.791</td>\n",
              "      <td>1.7</td>\n",
              "      <td>61.49</td>\n",
              "      <td>0.571</td>\n",
              "      <td>NaN</td>\n",
              "      <td>NaN</td>\n",
              "      <td>NaN</td>\n",
              "      <td>NaN</td>\n",
              "    </tr>\n",
              "    <tr>\n",
              "      <th>210212</th>\n",
              "      <td>ZWE</td>\n",
              "      <td>Africa</td>\n",
              "      <td>Zimbabwe</td>\n",
              "      <td>2022-08-20</td>\n",
              "      <td>256616.0</td>\n",
              "      <td>20.0</td>\n",
              "      <td>13.429</td>\n",
              "      <td>5592.0</td>\n",
              "      <td>3.0</td>\n",
              "      <td>0.714</td>\n",
              "      <td>...</td>\n",
              "      <td>1.6</td>\n",
              "      <td>30.7</td>\n",
              "      <td>36.791</td>\n",
              "      <td>1.7</td>\n",
              "      <td>61.49</td>\n",
              "      <td>0.571</td>\n",
              "      <td>NaN</td>\n",
              "      <td>NaN</td>\n",
              "      <td>NaN</td>\n",
              "      <td>NaN</td>\n",
              "    </tr>\n",
              "  </tbody>\n",
              "</table>\n",
              "<p>210213 rows × 67 columns</p>\n",
              "</div>\n",
              "      <button class=\"colab-df-convert\" onclick=\"convertToInteractive('df-4f877dfc-bb80-4224-b987-4c3c10741057')\"\n",
              "              title=\"Convert this dataframe to an interactive table.\"\n",
              "              style=\"display:none;\">\n",
              "        \n",
              "  <svg xmlns=\"http://www.w3.org/2000/svg\" height=\"24px\"viewBox=\"0 0 24 24\"\n",
              "       width=\"24px\">\n",
              "    <path d=\"M0 0h24v24H0V0z\" fill=\"none\"/>\n",
              "    <path d=\"M18.56 5.44l.94 2.06.94-2.06 2.06-.94-2.06-.94-.94-2.06-.94 2.06-2.06.94zm-11 1L8.5 8.5l.94-2.06 2.06-.94-2.06-.94L8.5 2.5l-.94 2.06-2.06.94zm10 10l.94 2.06.94-2.06 2.06-.94-2.06-.94-.94-2.06-.94 2.06-2.06.94z\"/><path d=\"M17.41 7.96l-1.37-1.37c-.4-.4-.92-.59-1.43-.59-.52 0-1.04.2-1.43.59L10.3 9.45l-7.72 7.72c-.78.78-.78 2.05 0 2.83L4 21.41c.39.39.9.59 1.41.59.51 0 1.02-.2 1.41-.59l7.78-7.78 2.81-2.81c.8-.78.8-2.07 0-2.86zM5.41 20L4 18.59l7.72-7.72 1.47 1.35L5.41 20z\"/>\n",
              "  </svg>\n",
              "      </button>\n",
              "      \n",
              "  <style>\n",
              "    .colab-df-container {\n",
              "      display:flex;\n",
              "      flex-wrap:wrap;\n",
              "      gap: 12px;\n",
              "    }\n",
              "\n",
              "    .colab-df-convert {\n",
              "      background-color: #E8F0FE;\n",
              "      border: none;\n",
              "      border-radius: 50%;\n",
              "      cursor: pointer;\n",
              "      display: none;\n",
              "      fill: #1967D2;\n",
              "      height: 32px;\n",
              "      padding: 0 0 0 0;\n",
              "      width: 32px;\n",
              "    }\n",
              "\n",
              "    .colab-df-convert:hover {\n",
              "      background-color: #E2EBFA;\n",
              "      box-shadow: 0px 1px 2px rgba(60, 64, 67, 0.3), 0px 1px 3px 1px rgba(60, 64, 67, 0.15);\n",
              "      fill: #174EA6;\n",
              "    }\n",
              "\n",
              "    [theme=dark] .colab-df-convert {\n",
              "      background-color: #3B4455;\n",
              "      fill: #D2E3FC;\n",
              "    }\n",
              "\n",
              "    [theme=dark] .colab-df-convert:hover {\n",
              "      background-color: #434B5C;\n",
              "      box-shadow: 0px 1px 3px 1px rgba(0, 0, 0, 0.15);\n",
              "      filter: drop-shadow(0px 1px 2px rgba(0, 0, 0, 0.3));\n",
              "      fill: #FFFFFF;\n",
              "    }\n",
              "  </style>\n",
              "\n",
              "      <script>\n",
              "        const buttonEl =\n",
              "          document.querySelector('#df-4f877dfc-bb80-4224-b987-4c3c10741057 button.colab-df-convert');\n",
              "        buttonEl.style.display =\n",
              "          google.colab.kernel.accessAllowed ? 'block' : 'none';\n",
              "\n",
              "        async function convertToInteractive(key) {\n",
              "          const element = document.querySelector('#df-4f877dfc-bb80-4224-b987-4c3c10741057');\n",
              "          const dataTable =\n",
              "            await google.colab.kernel.invokeFunction('convertToInteractive',\n",
              "                                                     [key], {});\n",
              "          if (!dataTable) return;\n",
              "\n",
              "          const docLinkHtml = 'Like what you see? Visit the ' +\n",
              "            '<a target=\"_blank\" href=https://colab.research.google.com/notebooks/data_table.ipynb>data table notebook</a>'\n",
              "            + ' to learn more about interactive tables.';\n",
              "          element.innerHTML = '';\n",
              "          dataTable['output_type'] = 'display_data';\n",
              "          await google.colab.output.renderOutput(dataTable, element);\n",
              "          const docLink = document.createElement('div');\n",
              "          docLink.innerHTML = docLinkHtml;\n",
              "          element.appendChild(docLink);\n",
              "        }\n",
              "      </script>\n",
              "    </div>\n",
              "  </div>\n",
              "  "
            ]
          },
          "metadata": {},
          "execution_count": 98
        }
      ]
    },
    {
      "cell_type": "markdown",
      "source": [
        "## Подготовка данных"
      ],
      "metadata": {
        "id": "BTeT9t-9gUzD"
      }
    },
    {
      "cell_type": "code",
      "source": [
        "df = data[data['icu_patients_per_million'].notna()]"
      ],
      "metadata": {
        "id": "efrkma1dxFpa"
      },
      "execution_count": null,
      "outputs": []
    },
    {
      "cell_type": "code",
      "source": [
        "df['date']= pd.to_datetime(df['date'])"
      ],
      "metadata": {
        "colab": {
          "base_uri": "https://localhost:8080/"
        },
        "id": "YXxKULswABEE",
        "outputId": "933190bd-ce9d-4f63-bde5-1b86c6757701"
      },
      "execution_count": null,
      "outputs": [
        {
          "output_type": "stream",
          "name": "stderr",
          "text": [
            "/usr/local/lib/python3.7/dist-packages/ipykernel_launcher.py:1: SettingWithCopyWarning: \n",
            "A value is trying to be set on a copy of a slice from a DataFrame.\n",
            "Try using .loc[row_indexer,col_indexer] = value instead\n",
            "\n",
            "See the caveats in the documentation: https://pandas.pydata.org/pandas-docs/stable/user_guide/indexing.html#returning-a-view-versus-a-copy\n",
            "  \"\"\"Entry point for launching an IPython kernel.\n"
          ]
        }
      ]
    },
    {
      "cell_type": "code",
      "source": [
        "df = df[['iso_code', 'continent', 'location', 'date', 'total_cases', 'new_cases',\n",
        "       'new_cases_smoothed', 'total_deaths', 'new_deaths',\n",
        "       'new_deaths_smoothed', 'total_cases_per_million',\n",
        "       'new_cases_per_million', 'new_cases_smoothed_per_million',\n",
        "       'total_deaths_per_million', 'new_deaths_per_million',\n",
        "       'new_deaths_smoothed_per_million', 'reproduction_rate', 'total_tests', 'new_tests',\n",
        "       'total_tests_per_thousand', 'new_tests_per_thousand',\n",
        "       'new_tests_smoothed', 'new_tests_smoothed_per_thousand',\n",
        "       'total_vaccinations',\n",
        "       'people_vaccinated', 'people_fully_vaccinated', 'total_boosters',\n",
        "       'new_vaccinations', 'new_vaccinations_smoothed',\n",
        "       'total_vaccinations_per_hundred', 'people_vaccinated_per_hundred',\n",
        "       'people_fully_vaccinated_per_hundred', 'total_boosters_per_hundred',\n",
        "       'new_vaccinations_smoothed_per_million',\n",
        "       'new_people_vaccinated_smoothed',\n",
        "       'new_people_vaccinated_smoothed_per_hundred',\n",
        "       'population', 'population_density', 'median_age', 'aged_65_older',\n",
        "       'aged_70_older', 'gdp_per_capita',\n",
        "       'cardiovasc_death_rate', 'diabetes_prevalence', 'female_smokers',\n",
        "       'male_smokers', 'hospital_beds_per_thousand',\n",
        "       'life_expectancy', 'human_development_index',\n",
        "       'excess_mortality_cumulative_absolute', 'excess_mortality_cumulative',\n",
        "       'excess_mortality', 'excess_mortality_cumulative_per_million',\n",
        "       'avg_icu_patients', 'avg_icu_patients_per_million', 'avg_hosp_patients',\n",
        "       'avg_hosp_patients_per_million', 'avg_positive_rate',\n",
        "       'avg_tests_per_case', 'avg_stringency_index']]"
      ],
      "metadata": {
        "id": "0XYNYkl-PGd-"
      },
      "execution_count": null,
      "outputs": []
    },
    {
      "cell_type": "code",
      "source": [
        "df[['total_cases', 'new_cases',\n",
        "       'new_cases_smoothed', 'total_deaths', 'new_deaths',\n",
        "       'new_deaths_smoothed', 'total_cases_per_million',\n",
        "       'new_cases_per_million', 'new_cases_smoothed_per_million',\n",
        "       'total_deaths_per_million', 'new_deaths_per_million',\n",
        "       'new_deaths_smoothed_per_million', 'reproduction_rate', 'icu_patients',\n",
        "       'icu_patients_per_million', 'hosp_patients',\n",
        "       'hosp_patients_per_million', 'weekly_icu_admissions',\n",
        "       'weekly_icu_admissions_per_million', 'weekly_hosp_admissions',\n",
        "       'weekly_hosp_admissions_per_million', 'total_tests', 'new_tests',\n",
        "       'total_tests_per_thousand', 'new_tests_per_thousand',\n",
        "       'new_tests_smoothed', 'new_tests_smoothed_per_thousand',\n",
        "       'positive_rate', 'tests_per_case', 'tests_units', 'total_vaccinations',\n",
        "       'people_vaccinated', 'people_fully_vaccinated', 'total_boosters',\n",
        "       'new_vaccinations', 'new_vaccinations_smoothed',\n",
        "       'total_vaccinations_per_hundred', 'people_vaccinated_per_hundred',\n",
        "       'people_fully_vaccinated_per_hundred', 'total_boosters_per_hundred',\n",
        "       'new_vaccinations_smoothed_per_million',\n",
        "       'new_people_vaccinated_smoothed',\n",
        "       'new_people_vaccinated_smoothed_per_hundred', 'stringency_index',\n",
        "       'population', 'population_density', 'median_age', 'aged_65_older',\n",
        "       'aged_70_older', 'gdp_per_capita', 'extreme_poverty',\n",
        "       'cardiovasc_death_rate', 'diabetes_prevalence', 'female_smokers',\n",
        "       'male_smokers', 'handwashing_facilities', 'hospital_beds_per_thousand',\n",
        "       'life_expectancy', 'human_development_index',\n",
        "       'excess_mortality_cumulative_absolute', 'excess_mortality_cumulative',\n",
        "       'excess_mortality', 'excess_mortality_cumulative_per_million']] = df[['total_cases', 'new_cases',\n",
        "       'new_cases_smoothed', 'total_deaths', 'new_deaths',\n",
        "       'new_deaths_smoothed', 'total_cases_per_million',\n",
        "       'new_cases_per_million', 'new_cases_smoothed_per_million',\n",
        "       'total_deaths_per_million', 'new_deaths_per_million',\n",
        "       'new_deaths_smoothed_per_million', 'reproduction_rate', 'icu_patients',\n",
        "       'icu_patients_per_million', 'hosp_patients',\n",
        "       'hosp_patients_per_million', 'weekly_icu_admissions',\n",
        "       'weekly_icu_admissions_per_million', 'weekly_hosp_admissions',\n",
        "       'weekly_hosp_admissions_per_million', 'total_tests', 'new_tests',\n",
        "       'total_tests_per_thousand', 'new_tests_per_thousand',\n",
        "       'new_tests_smoothed', 'new_tests_smoothed_per_thousand',\n",
        "       'positive_rate', 'tests_per_case', 'tests_units', 'total_vaccinations',\n",
        "       'people_vaccinated', 'people_fully_vaccinated', 'total_boosters',\n",
        "       'new_vaccinations', 'new_vaccinations_smoothed',\n",
        "       'total_vaccinations_per_hundred', 'people_vaccinated_per_hundred',\n",
        "       'people_fully_vaccinated_per_hundred', 'total_boosters_per_hundred',\n",
        "       'new_vaccinations_smoothed_per_million',\n",
        "       'new_people_vaccinated_smoothed',\n",
        "       'new_people_vaccinated_smoothed_per_hundred', 'stringency_index',\n",
        "       'population', 'population_density', 'median_age', 'aged_65_older',\n",
        "       'aged_70_older', 'gdp_per_capita', 'extreme_poverty',\n",
        "       'cardiovasc_death_rate', 'diabetes_prevalence', 'female_smokers',\n",
        "       'male_smokers', 'handwashing_facilities', 'hospital_beds_per_thousand',\n",
        "       'life_expectancy', 'human_development_index',\n",
        "       'excess_mortality_cumulative_absolute', 'excess_mortality_cumulative',\n",
        "       'excess_mortality', 'excess_mortality_cumulative_per_million']].groupby(df.location).apply(lambda group: group.interpolate())"
      ],
      "metadata": {
        "colab": {
          "base_uri": "https://localhost:8080/"
        },
        "id": "ie8Owok75-0h",
        "outputId": "7f7f2b96-4e55-43ea-f9d6-f4bff9b50ec8"
      },
      "execution_count": null,
      "outputs": [
        {
          "output_type": "stream",
          "name": "stderr",
          "text": [
            "/usr/local/lib/python3.7/dist-packages/pandas/core/frame.py:3641: SettingWithCopyWarning: \n",
            "A value is trying to be set on a copy of a slice from a DataFrame.\n",
            "Try using .loc[row_indexer,col_indexer] = value instead\n",
            "\n",
            "See the caveats in the documentation: https://pandas.pydata.org/pandas-docs/stable/user_guide/indexing.html#returning-a-view-versus-a-copy\n",
            "  self[k1] = value[k2]\n"
          ]
        }
      ]
    },
    {
      "cell_type": "code",
      "source": [
        "df[['avg_icu_patients',\n",
        "       'avg_icu_patients_per_million', 'avg_hosp_patients',\n",
        "       'avg_hosp_patients_per_million', 'avg_positive_rate', 'avg_tests_per_case', 'avg_stringency_index']] = df[['icu_patients',\n",
        "       'icu_patients_per_million', 'hosp_patients',\n",
        "       'hosp_patients_per_million', 'positive_rate', 'tests_per_case', 'stringency_index']].groupby(df.location).transform('mean')"
      ],
      "metadata": {
        "id": "SvudsyBk7VtR"
      },
      "execution_count": null,
      "outputs": []
    },
    {
      "cell_type": "code",
      "source": [
        "df = df[['iso_code', 'continent', 'location', 'date', 'total_cases_per_million',\n",
        "       'total_deaths_per_million', 'reproduction_rate',\n",
        "       'total_tests_per_thousand', 'positive_rate','total_vaccinations',\n",
        "       'people_vaccinated', \n",
        "       'total_vaccinations_per_hundred', 'stringency_index',\n",
        "       'population', 'population_density', 'median_age', 'aged_65_older',\n",
        "       'aged_70_older', 'gdp_per_capita', 'extreme_poverty',\n",
        "       'cardiovasc_death_rate', 'diabetes_prevalence', 'female_smokers',\n",
        "       'male_smokers', 'hospital_beds_per_thousand',\n",
        "       'life_expectancy', 'human_development_index',\n",
        "       'excess_mortality_cumulative_per_million']]"
      ],
      "metadata": {
        "id": "86cu6xiL7SCG"
      },
      "execution_count": null,
      "outputs": []
    },
    {
      "cell_type": "code",
      "source": [
        "df=df[df.excess_mortality_cumulative_per_million.notna()]"
      ],
      "metadata": {
        "id": "RMCDRU4DEhio"
      },
      "execution_count": null,
      "outputs": []
    },
    {
      "cell_type": "code",
      "source": [
        "df = df[df['date'] <= pd.Timestamp(2022, 3, 11)]"
      ],
      "metadata": {
        "id": "jNWGbbEABBG4"
      },
      "execution_count": null,
      "outputs": []
    },
    {
      "cell_type": "code",
      "source": [
        "last = df.sort_values('date').groupby('location').tail(1)"
      ],
      "metadata": {
        "id": "Chnv5OwUMM43"
      },
      "execution_count": null,
      "outputs": []
    },
    {
      "cell_type": "code",
      "source": [
        "last = last.fillna(df.mean())"
      ],
      "metadata": {
        "colab": {
          "base_uri": "https://localhost:8080/"
        },
        "id": "ykH5LcIGPpDA",
        "outputId": "fa123d88-87ae-48aa-f2ce-b26f588cbff3"
      },
      "execution_count": null,
      "outputs": [
        {
          "output_type": "stream",
          "name": "stderr",
          "text": [
            "/usr/local/lib/python3.7/dist-packages/ipykernel_launcher.py:1: FutureWarning: DataFrame.mean and DataFrame.median with numeric_only=None will include datetime64 and datetime64tz columns in a future version.\n",
            "  \"\"\"Entry point for launching an IPython kernel.\n",
            "/usr/local/lib/python3.7/dist-packages/ipykernel_launcher.py:1: FutureWarning: Dropping of nuisance columns in DataFrame reductions (with 'numeric_only=None') is deprecated; in a future version this will raise TypeError.  Select only valid columns before calling the reduction.\n",
            "  \"\"\"Entry point for launching an IPython kernel.\n"
          ]
        }
      ]
    },
    {
      "cell_type": "code",
      "source": [
        "len(df.location.unique())"
      ],
      "metadata": {
        "colab": {
          "base_uri": "https://localhost:8080/"
        },
        "id": "P4c7ZcX6B1yT",
        "outputId": "707b36fb-face-4b58-a439-fc5ab9b4cd54"
      },
      "execution_count": null,
      "outputs": [
        {
          "output_type": "execute_result",
          "data": {
            "text/plain": [
              "37"
            ]
          },
          "metadata": {},
          "execution_count": 67
        }
      ]
    },
    {
      "cell_type": "code",
      "source": [
        "from sklearn.preprocessing import OneHotEncoder\n",
        "object_data = last.select_dtypes(include=\"object\")\n",
        "object_data.head()\n",
        "data_processed = last.copy(deep = True)\n",
        "for column in object_data.columns:\n",
        "    ohe = OneHotEncoder(categories='auto')#np.array(['Europe', 'South America', 'Asia', 'Oceania', 'North America', 'Africa']))\n",
        "    data_processed_c = ohe.fit_transform(np.array(object_data[column]).reshape(-1,1)).toarray()"
      ],
      "metadata": {
        "id": "JOGNItcURErA"
      },
      "execution_count": null,
      "outputs": []
    },
    {
      "cell_type": "code",
      "source": [
        "data_processed = pd.concat([data_processed, pd.DataFrame(data_processed_c, index = data_processed.index)], axis=1)"
      ],
      "metadata": {
        "id": "w81x_O3JRIbB"
      },
      "execution_count": null,
      "outputs": []
    },
    {
      "cell_type": "code",
      "source": [
        "last = last.set_index([\"location\"])"
      ],
      "metadata": {
        "id": "7cugwkKVRSGF"
      },
      "execution_count": null,
      "outputs": []
    },
    {
      "cell_type": "code",
      "source": [
        "last"
      ],
      "metadata": {
        "id": "lmP9yfhWmev8"
      },
      "execution_count": null,
      "outputs": []
    },
    {
      "cell_type": "code",
      "source": [
        "temp = data_processed[['excess_mortality_cumulative_per_million','total_deaths', 'total_cases_per_million',\n",
        "       'total_deaths_per_million', 'reproduction_rate', 'total_tests',\n",
        "       'total_tests_per_thousand',\n",
        "       'total_vaccinations', 'people_vaccinated', 'people_fully_vaccinated',\n",
        "       'total_boosters',\n",
        "       'total_vaccinations_per_hundred', 'people_vaccinated_per_hundred',\n",
        "       'people_fully_vaccinated_per_hundred', 'total_boosters_per_hundred',\n",
        "       'population_density', 'median_age', 'aged_65_older', 'aged_70_older',\n",
        "       'gdp_per_capita', 'cardiovasc_death_rate', 'diabetes_prevalence',\n",
        "       'female_smokers', 'male_smokers', 'hospital_beds_per_thousand',\n",
        "       'life_expectancy', 'human_development_index',\n",
        "       'avg_icu_patients', 'avg_icu_patients_per_million', 'avg_hosp_patients',\n",
        "       'avg_hosp_patients_per_million', 'avg_positive_rate',\n",
        "       'avg_tests_per_case', 'avg_stringency_index']]"
      ],
      "metadata": {
        "id": "VvsdBsESmxNn"
      },
      "execution_count": null,
      "outputs": []
    },
    {
      "cell_type": "code",
      "source": [
        "# Стандартизация переменных для удаления мультиколлинеарности. Не влияет на интерпретацию.\n",
        "temp['life_expectancy'] = temp['life_expectancy'].sub(temp['life_expectancy'].mean(), axis=0)"
      ],
      "metadata": {
        "colab": {
          "base_uri": "https://localhost:8080/"
        },
        "id": "PxB_gOTRrg0k",
        "outputId": "2e8112bd-c341-457c-9e7f-dd86f7e51ac0"
      },
      "execution_count": null,
      "outputs": [
        {
          "output_type": "stream",
          "name": "stderr",
          "text": [
            "/usr/local/lib/python3.7/dist-packages/ipykernel_launcher.py:1: SettingWithCopyWarning: \n",
            "A value is trying to be set on a copy of a slice from a DataFrame.\n",
            "Try using .loc[row_indexer,col_indexer] = value instead\n",
            "\n",
            "See the caveats in the documentation: https://pandas.pydata.org/pandas-docs/stable/user_guide/indexing.html#returning-a-view-versus-a-copy\n",
            "  \"\"\"Entry point for launching an IPython kernel.\n"
          ]
        }
      ]
    },
    {
      "cell_type": "code",
      "source": [
        "temp['avg_hosp_patients_per_million'] = temp['avg_hosp_patients_per_million'].sub(temp['avg_hosp_patients_per_million'].mean(), axis=0)"
      ],
      "metadata": {
        "colab": {
          "base_uri": "https://localhost:8080/"
        },
        "id": "dRwuKpZQtm3A",
        "outputId": "3bac91e2-3b10-4344-95d9-b4fa776b9520"
      },
      "execution_count": null,
      "outputs": [
        {
          "output_type": "stream",
          "name": "stderr",
          "text": [
            "/usr/local/lib/python3.7/dist-packages/ipykernel_launcher.py:1: SettingWithCopyWarning: \n",
            "A value is trying to be set on a copy of a slice from a DataFrame.\n",
            "Try using .loc[row_indexer,col_indexer] = value instead\n",
            "\n",
            "See the caveats in the documentation: https://pandas.pydata.org/pandas-docs/stable/user_guide/indexing.html#returning-a-view-versus-a-copy\n",
            "  \"\"\"Entry point for launching an IPython kernel.\n"
          ]
        }
      ]
    },
    {
      "cell_type": "code",
      "source": [
        "temp['aged_70_older'] = temp['aged_70_older'].sub(temp['aged_70_older'].mean(), axis=0)"
      ],
      "metadata": {
        "colab": {
          "base_uri": "https://localhost:8080/"
        },
        "id": "Q47TJYAVt3DS",
        "outputId": "a44124e4-779c-4cd3-e487-4d44406b3fd4"
      },
      "execution_count": null,
      "outputs": [
        {
          "output_type": "stream",
          "name": "stderr",
          "text": [
            "/usr/local/lib/python3.7/dist-packages/ipykernel_launcher.py:1: SettingWithCopyWarning: \n",
            "A value is trying to be set on a copy of a slice from a DataFrame.\n",
            "Try using .loc[row_indexer,col_indexer] = value instead\n",
            "\n",
            "See the caveats in the documentation: https://pandas.pydata.org/pandas-docs/stable/user_guide/indexing.html#returning-a-view-versus-a-copy\n",
            "  \"\"\"Entry point for launching an IPython kernel.\n"
          ]
        }
      ]
    },
    {
      "cell_type": "code",
      "source": [
        "temp['aged_65_older'] = temp['aged_65_older'].sub(temp['aged_65_older'].mean(), axis=0)"
      ],
      "metadata": {
        "id": "eB2fCmfABPa8"
      },
      "execution_count": null,
      "outputs": []
    },
    {
      "cell_type": "code",
      "source": [
        "temp['avg_stringency_index'] = temp['avg_stringency_index'].sub(temp['avg_stringency_index'].mean(), axis=0)"
      ],
      "metadata": {
        "colab": {
          "base_uri": "https://localhost:8080/"
        },
        "id": "WLzWQbhtuGND",
        "outputId": "b500fe9e-6210-4611-ae61-33f2244dce4f"
      },
      "execution_count": null,
      "outputs": [
        {
          "output_type": "stream",
          "name": "stderr",
          "text": [
            "/usr/local/lib/python3.7/dist-packages/ipykernel_launcher.py:1: SettingWithCopyWarning: \n",
            "A value is trying to be set on a copy of a slice from a DataFrame.\n",
            "Try using .loc[row_indexer,col_indexer] = value instead\n",
            "\n",
            "See the caveats in the documentation: https://pandas.pydata.org/pandas-docs/stable/user_guide/indexing.html#returning-a-view-versus-a-copy\n",
            "  \"\"\"Entry point for launching an IPython kernel.\n"
          ]
        }
      ]
    },
    {
      "cell_type": "code",
      "source": [
        "temp['male_smokers'] = temp['male_smokers'].sub(temp['male_smokers'].mean(), axis=0)"
      ],
      "metadata": {
        "id": "TX6Z2kqPvjDO"
      },
      "execution_count": null,
      "outputs": []
    },
    {
      "cell_type": "code",
      "source": [
        "temp['reproduction_rate'] = temp['reproduction_rate'].sub(temp['reproduction_rate'].mean(), axis=0)"
      ],
      "metadata": {
        "colab": {
          "base_uri": "https://localhost:8080/"
        },
        "id": "Ve0Cv68QwIhG",
        "outputId": "51fcd18a-66d7-44ea-8c9c-51a7544060ff"
      },
      "execution_count": null,
      "outputs": [
        {
          "output_type": "stream",
          "name": "stderr",
          "text": [
            "/usr/local/lib/python3.7/dist-packages/ipykernel_launcher.py:1: SettingWithCopyWarning: \n",
            "A value is trying to be set on a copy of a slice from a DataFrame.\n",
            "Try using .loc[row_indexer,col_indexer] = value instead\n",
            "\n",
            "See the caveats in the documentation: https://pandas.pydata.org/pandas-docs/stable/user_guide/indexing.html#returning-a-view-versus-a-copy\n",
            "  \"\"\"Entry point for launching an IPython kernel.\n"
          ]
        }
      ]
    },
    {
      "cell_type": "code",
      "source": [
        "temp['female_smokers'] = temp['female_smokers'].sub(temp['female_smokers'].mean(), axis=0)"
      ],
      "metadata": {
        "colab": {
          "base_uri": "https://localhost:8080/"
        },
        "id": "405B2fiawkGd",
        "outputId": "918bc7de-76d8-4849-854d-8351e8049e77"
      },
      "execution_count": null,
      "outputs": [
        {
          "output_type": "stream",
          "name": "stderr",
          "text": [
            "/usr/local/lib/python3.7/dist-packages/ipykernel_launcher.py:1: SettingWithCopyWarning: \n",
            "A value is trying to be set on a copy of a slice from a DataFrame.\n",
            "Try using .loc[row_indexer,col_indexer] = value instead\n",
            "\n",
            "See the caveats in the documentation: https://pandas.pydata.org/pandas-docs/stable/user_guide/indexing.html#returning-a-view-versus-a-copy\n",
            "  \"\"\"Entry point for launching an IPython kernel.\n"
          ]
        }
      ]
    },
    {
      "cell_type": "code",
      "source": [
        "temp['cardiovasc_death_rate'] = temp['cardiovasc_death_rate'].sub(temp['cardiovasc_death_rate'].mean(), axis=0)"
      ],
      "metadata": {
        "colab": {
          "base_uri": "https://localhost:8080/"
        },
        "id": "-OwP90m_wuIC",
        "outputId": "2ff6bac2-9803-4712-ad0c-67c9f8c167f2"
      },
      "execution_count": null,
      "outputs": [
        {
          "output_type": "stream",
          "name": "stderr",
          "text": [
            "/usr/local/lib/python3.7/dist-packages/ipykernel_launcher.py:1: SettingWithCopyWarning: \n",
            "A value is trying to be set on a copy of a slice from a DataFrame.\n",
            "Try using .loc[row_indexer,col_indexer] = value instead\n",
            "\n",
            "See the caveats in the documentation: https://pandas.pydata.org/pandas-docs/stable/user_guide/indexing.html#returning-a-view-versus-a-copy\n",
            "  \"\"\"Entry point for launching an IPython kernel.\n"
          ]
        }
      ]
    },
    {
      "cell_type": "code",
      "source": [
        "temp['people_fully_vaccinated_per_hundred'] = temp['people_fully_vaccinated_per_hundred'].sub(temp['people_fully_vaccinated_per_hundred'].mean(), axis=0)"
      ],
      "metadata": {
        "colab": {
          "base_uri": "https://localhost:8080/"
        },
        "id": "T-mSXP3Yw3b5",
        "outputId": "6aa6c399-cd4f-4219-f6b4-59678ae322c0"
      },
      "execution_count": null,
      "outputs": [
        {
          "output_type": "stream",
          "name": "stderr",
          "text": [
            "/usr/local/lib/python3.7/dist-packages/ipykernel_launcher.py:1: SettingWithCopyWarning: \n",
            "A value is trying to be set on a copy of a slice from a DataFrame.\n",
            "Try using .loc[row_indexer,col_indexer] = value instead\n",
            "\n",
            "See the caveats in the documentation: https://pandas.pydata.org/pandas-docs/stable/user_guide/indexing.html#returning-a-view-versus-a-copy\n",
            "  \"\"\"Entry point for launching an IPython kernel.\n"
          ]
        }
      ]
    },
    {
      "cell_type": "code",
      "source": [
        "temp['avg_icu_patients_per_million'] = temp['avg_icu_patients_per_million'].sub(temp['avg_icu_patients_per_million'].mean(), axis=0)"
      ],
      "metadata": {
        "colab": {
          "base_uri": "https://localhost:8080/"
        },
        "id": "egu_gnX_xBym",
        "outputId": "cd6cb5f7-54a1-40a2-a808-007dbedb428c"
      },
      "execution_count": null,
      "outputs": [
        {
          "output_type": "stream",
          "name": "stderr",
          "text": [
            "/usr/local/lib/python3.7/dist-packages/ipykernel_launcher.py:1: SettingWithCopyWarning: \n",
            "A value is trying to be set on a copy of a slice from a DataFrame.\n",
            "Try using .loc[row_indexer,col_indexer] = value instead\n",
            "\n",
            "See the caveats in the documentation: https://pandas.pydata.org/pandas-docs/stable/user_guide/indexing.html#returning-a-view-versus-a-copy\n",
            "  \"\"\"Entry point for launching an IPython kernel.\n"
          ]
        }
      ]
    },
    {
      "cell_type": "code",
      "source": [
        "temp['total_boosters'] = temp['total_boosters'].sub(temp['total_boosters'].mean(), axis=0)"
      ],
      "metadata": {
        "colab": {
          "base_uri": "https://localhost:8080/"
        },
        "id": "oMwp7pMCxLR5",
        "outputId": "0773a414-dcec-42f4-bc65-65f0526f992d"
      },
      "execution_count": null,
      "outputs": [
        {
          "output_type": "stream",
          "name": "stderr",
          "text": [
            "/usr/local/lib/python3.7/dist-packages/ipykernel_launcher.py:1: SettingWithCopyWarning: \n",
            "A value is trying to be set on a copy of a slice from a DataFrame.\n",
            "Try using .loc[row_indexer,col_indexer] = value instead\n",
            "\n",
            "See the caveats in the documentation: https://pandas.pydata.org/pandas-docs/stable/user_guide/indexing.html#returning-a-view-versus-a-copy\n",
            "  \"\"\"Entry point for launching an IPython kernel.\n"
          ]
        }
      ]
    },
    {
      "cell_type": "code",
      "source": [
        "temp['total_boosters_per_hundred'] = temp['total_boosters_per_hundred'].sub(temp['total_boosters_per_hundred'].mean(), axis=0)"
      ],
      "metadata": {
        "colab": {
          "base_uri": "https://localhost:8080/"
        },
        "id": "gMZPWyLbxTcG",
        "outputId": "5b00b0ac-e2a1-42c7-97d5-a5407f78550c"
      },
      "execution_count": null,
      "outputs": [
        {
          "output_type": "stream",
          "name": "stderr",
          "text": [
            "/usr/local/lib/python3.7/dist-packages/ipykernel_launcher.py:1: SettingWithCopyWarning: \n",
            "A value is trying to be set on a copy of a slice from a DataFrame.\n",
            "Try using .loc[row_indexer,col_indexer] = value instead\n",
            "\n",
            "See the caveats in the documentation: https://pandas.pydata.org/pandas-docs/stable/user_guide/indexing.html#returning-a-view-versus-a-copy\n",
            "  \"\"\"Entry point for launching an IPython kernel.\n"
          ]
        }
      ]
    },
    {
      "cell_type": "code",
      "source": [
        "temp['total_deaths_per_million'] = temp['total_deaths_per_million'].sub(temp['total_deaths_per_million'].mean(), axis=0)"
      ],
      "metadata": {
        "colab": {
          "base_uri": "https://localhost:8080/"
        },
        "id": "QR9kwDxlxdTP",
        "outputId": "02e41faa-1c18-4019-b859-52df460deaa9"
      },
      "execution_count": null,
      "outputs": [
        {
          "output_type": "stream",
          "name": "stderr",
          "text": [
            "/usr/local/lib/python3.7/dist-packages/ipykernel_launcher.py:1: SettingWithCopyWarning: \n",
            "A value is trying to be set on a copy of a slice from a DataFrame.\n",
            "Try using .loc[row_indexer,col_indexer] = value instead\n",
            "\n",
            "See the caveats in the documentation: https://pandas.pydata.org/pandas-docs/stable/user_guide/indexing.html#returning-a-view-versus-a-copy\n",
            "  \"\"\"Entry point for launching an IPython kernel.\n"
          ]
        }
      ]
    },
    {
      "cell_type": "code",
      "source": [
        "temp['total_cases_per_million'] = temp['total_cases_per_million'].sub(temp['total_cases_per_million'].mean(), axis=0)"
      ],
      "metadata": {
        "colab": {
          "base_uri": "https://localhost:8080/"
        },
        "id": "Z-4bn-AgxkFX",
        "outputId": "aa0bf906-edf4-4ec0-e35b-ce53c8e77907"
      },
      "execution_count": null,
      "outputs": [
        {
          "output_type": "stream",
          "name": "stderr",
          "text": [
            "/usr/local/lib/python3.7/dist-packages/ipykernel_launcher.py:1: SettingWithCopyWarning: \n",
            "A value is trying to be set on a copy of a slice from a DataFrame.\n",
            "Try using .loc[row_indexer,col_indexer] = value instead\n",
            "\n",
            "See the caveats in the documentation: https://pandas.pydata.org/pandas-docs/stable/user_guide/indexing.html#returning-a-view-versus-a-copy\n",
            "  \"\"\"Entry point for launching an IPython kernel.\n"
          ]
        }
      ]
    },
    {
      "cell_type": "code",
      "source": [
        "temp['hospital_beds_per_thousand'] = temp['hospital_beds_per_thousand'].sub(temp['hospital_beds_per_thousand'].mean(), axis=0)"
      ],
      "metadata": {
        "colab": {
          "base_uri": "https://localhost:8080/"
        },
        "id": "3Q3VEZ8bx-J8",
        "outputId": "6241fabf-6d58-4d18-f887-8524bc4bfa8a"
      },
      "execution_count": null,
      "outputs": [
        {
          "output_type": "stream",
          "name": "stderr",
          "text": [
            "/usr/local/lib/python3.7/dist-packages/ipykernel_launcher.py:1: SettingWithCopyWarning: \n",
            "A value is trying to be set on a copy of a slice from a DataFrame.\n",
            "Try using .loc[row_indexer,col_indexer] = value instead\n",
            "\n",
            "See the caveats in the documentation: https://pandas.pydata.org/pandas-docs/stable/user_guide/indexing.html#returning-a-view-versus-a-copy\n",
            "  \"\"\"Entry point for launching an IPython kernel.\n"
          ]
        }
      ]
    },
    {
      "cell_type": "code",
      "source": [
        "temp['gdp_per_capita'] = temp['gdp_per_capita'].sub(temp['gdp_per_capita'].mean(), axis=0)"
      ],
      "metadata": {
        "colab": {
          "base_uri": "https://localhost:8080/"
        },
        "id": "gUOxt_FtyY3T",
        "outputId": "7eed8cce-1027-42b3-ed3f-de70057a2fc5"
      },
      "execution_count": null,
      "outputs": [
        {
          "output_type": "stream",
          "name": "stderr",
          "text": [
            "/usr/local/lib/python3.7/dist-packages/ipykernel_launcher.py:1: SettingWithCopyWarning: \n",
            "A value is trying to be set on a copy of a slice from a DataFrame.\n",
            "Try using .loc[row_indexer,col_indexer] = value instead\n",
            "\n",
            "See the caveats in the documentation: https://pandas.pydata.org/pandas-docs/stable/user_guide/indexing.html#returning-a-view-versus-a-copy\n",
            "  \"\"\"Entry point for launching an IPython kernel.\n"
          ]
        }
      ]
    },
    {
      "cell_type": "code",
      "source": [
        "temp['diabetes_prevalence'] = temp['diabetes_prevalence'].sub(temp['diabetes_prevalence'].mean(), axis=0)"
      ],
      "metadata": {
        "id": "4gXQy4KnyhVN"
      },
      "execution_count": null,
      "outputs": []
    },
    {
      "cell_type": "code",
      "source": [
        "temp['people_vaccinated'] = temp['people_vaccinated'].sub(temp['people_vaccinated'].mean(), axis=0)"
      ],
      "metadata": {
        "id": "6o4y99kRANcw"
      },
      "execution_count": null,
      "outputs": []
    },
    {
      "cell_type": "code",
      "source": [
        "temp['people_fully_vaccinated'] = temp['people_fully_vaccinated'].sub(temp['people_fully_vaccinated'].mean(), axis=0)"
      ],
      "metadata": {
        "id": "Tu8fu0tbA9yA"
      },
      "execution_count": null,
      "outputs": []
    },
    {
      "cell_type": "code",
      "source": [
        "temp['people_vaccinated_per_hundred'] = temp['people_vaccinated_per_hundred'].sub(temp['people_vaccinated_per_hundred'].mean(), axis=0)"
      ],
      "metadata": {
        "colab": {
          "base_uri": "https://localhost:8080/"
        },
        "id": "7VSreSM4BjVe",
        "outputId": "454e9425-f8a5-4687-cd32-0c852972abcc"
      },
      "execution_count": null,
      "outputs": [
        {
          "output_type": "stream",
          "name": "stderr",
          "text": [
            "/usr/local/lib/python3.7/dist-packages/ipykernel_launcher.py:1: SettingWithCopyWarning: \n",
            "A value is trying to be set on a copy of a slice from a DataFrame.\n",
            "Try using .loc[row_indexer,col_indexer] = value instead\n",
            "\n",
            "See the caveats in the documentation: https://pandas.pydata.org/pandas-docs/stable/user_guide/indexing.html#returning-a-view-versus-a-copy\n",
            "  \"\"\"Entry point for launching an IPython kernel.\n"
          ]
        }
      ]
    },
    {
      "cell_type": "code",
      "source": [
        "temp['total_vaccinations'] = temp['total_vaccinations'].sub(temp['total_vaccinations'].mean(), axis=0)"
      ],
      "metadata": {
        "id": "wvDMm3vlAqyi"
      },
      "execution_count": null,
      "outputs": []
    },
    {
      "cell_type": "code",
      "source": [
        "temp['human_development_index'] = temp['human_development_index'].sub(temp['human_development_index'].mean(), axis=0)"
      ],
      "metadata": {
        "id": "C5-OBWuTAYuT"
      },
      "execution_count": null,
      "outputs": []
    },
    {
      "cell_type": "code",
      "source": [
        "temp['median_age'] = temp['median_age'].sub(temp['median_age'].mean(), axis=0)"
      ],
      "metadata": {
        "colab": {
          "base_uri": "https://localhost:8080/"
        },
        "id": "I8fQtpleBviM",
        "outputId": "d4ffb631-996d-4304-86ac-9b9f2bbd6f34"
      },
      "execution_count": null,
      "outputs": [
        {
          "output_type": "stream",
          "name": "stderr",
          "text": [
            "/usr/local/lib/python3.7/dist-packages/ipykernel_launcher.py:1: SettingWithCopyWarning: \n",
            "A value is trying to be set on a copy of a slice from a DataFrame.\n",
            "Try using .loc[row_indexer,col_indexer] = value instead\n",
            "\n",
            "See the caveats in the documentation: https://pandas.pydata.org/pandas-docs/stable/user_guide/indexing.html#returning-a-view-versus-a-copy\n",
            "  \"\"\"Entry point for launching an IPython kernel.\n"
          ]
        }
      ]
    },
    {
      "cell_type": "code",
      "source": [
        "temp['total_vaccinations_per_hundred'] = temp['total_vaccinations_per_hundred'].sub(temp['total_vaccinations_per_hundred'].mean(), axis=0)"
      ],
      "metadata": {
        "colab": {
          "base_uri": "https://localhost:8080/"
        },
        "id": "fVeMQpgvB_tl",
        "outputId": "5cecd16f-006e-4b73-c241-f7d1f59349a5"
      },
      "execution_count": null,
      "outputs": [
        {
          "output_type": "stream",
          "name": "stderr",
          "text": [
            "/usr/local/lib/python3.7/dist-packages/ipykernel_launcher.py:1: SettingWithCopyWarning: \n",
            "A value is trying to be set on a copy of a slice from a DataFrame.\n",
            "Try using .loc[row_indexer,col_indexer] = value instead\n",
            "\n",
            "See the caveats in the documentation: https://pandas.pydata.org/pandas-docs/stable/user_guide/indexing.html#returning-a-view-versus-a-copy\n",
            "  \"\"\"Entry point for launching an IPython kernel.\n"
          ]
        }
      ]
    },
    {
      "cell_type": "code",
      "source": [
        "temp['total_deaths'] = temp['total_deaths'].sub(temp['total_deaths'].mean(), axis=0)"
      ],
      "metadata": {
        "colab": {
          "base_uri": "https://localhost:8080/"
        },
        "id": "euAp4lxzCO18",
        "outputId": "fcf3663c-1248-48dc-f57a-97def0e7c057"
      },
      "execution_count": null,
      "outputs": [
        {
          "output_type": "stream",
          "name": "stderr",
          "text": [
            "/usr/local/lib/python3.7/dist-packages/ipykernel_launcher.py:1: SettingWithCopyWarning: \n",
            "A value is trying to be set on a copy of a slice from a DataFrame.\n",
            "Try using .loc[row_indexer,col_indexer] = value instead\n",
            "\n",
            "See the caveats in the documentation: https://pandas.pydata.org/pandas-docs/stable/user_guide/indexing.html#returning-a-view-versus-a-copy\n",
            "  \"\"\"Entry point for launching an IPython kernel.\n"
          ]
        }
      ]
    },
    {
      "cell_type": "code",
      "source": [
        "temp['avg_hosp_patients'] = temp['avg_hosp_patients'].sub(temp['avg_hosp_patients'].mean(), axis=0)"
      ],
      "metadata": {
        "colab": {
          "base_uri": "https://localhost:8080/"
        },
        "id": "tWap8hwLChb3",
        "outputId": "5c45e500-341d-4fa7-82f8-1408447e4aa0"
      },
      "execution_count": null,
      "outputs": [
        {
          "output_type": "stream",
          "name": "stderr",
          "text": [
            "/usr/local/lib/python3.7/dist-packages/ipykernel_launcher.py:1: SettingWithCopyWarning: \n",
            "A value is trying to be set on a copy of a slice from a DataFrame.\n",
            "Try using .loc[row_indexer,col_indexer] = value instead\n",
            "\n",
            "See the caveats in the documentation: https://pandas.pydata.org/pandas-docs/stable/user_guide/indexing.html#returning-a-view-versus-a-copy\n",
            "  \"\"\"Entry point for launching an IPython kernel.\n"
          ]
        }
      ]
    },
    {
      "cell_type": "code",
      "source": [
        "X  = temp[['total_cases_per_million',\n",
        "       'total_deaths_per_million', 'reproduction_rate',\n",
        "       'total_tests_per_thousand', \n",
        "       'total_boosters',\n",
        "       'people_fully_vaccinated_per_hundred', 'total_boosters_per_hundred',\n",
        "       'population_density', 'aged_70_older',\n",
        "       'gdp_per_capita', 'cardiovasc_death_rate', 'diabetes_prevalence',\n",
        "       'female_smokers', 'hospital_beds_per_thousand',\n",
        "       'life_expectancy', 'avg_icu_patients_per_million', \n",
        "       'avg_hosp_patients_per_million', 'avg_positive_rate',\n",
        "       'avg_tests_per_case', 'avg_stringency_index']]"
      ],
      "metadata": {
        "id": "-uyE9vfjgCST"
      },
      "execution_count": null,
      "outputs": []
    },
    {
      "cell_type": "code",
      "source": [
        "from statsmodels.stats.outliers_influence import variance_inflation_factor\n",
        "  \n",
        "# VIF dataframe\n",
        "vif_data = pd.DataFrame()\n",
        "vif_data[\"feature\"] = X.columns\n",
        "  \n",
        "# calculating VIF for each feature\n",
        "vif_data[\"VIF\"] = [variance_inflation_factor(X.values, i)\n",
        "                          for i in range(len(X.columns))]\n",
        "  \n",
        "print(vif_data)"
      ],
      "metadata": {
        "colab": {
          "base_uri": "https://localhost:8080/"
        },
        "id": "L3SPWYVLAD4U",
        "outputId": "bd3a445c-86f4-415e-90a1-344f7b18416c"
      },
      "execution_count": null,
      "outputs": [
        {
          "output_type": "stream",
          "name": "stdout",
          "text": [
            "                                feature        VIF\n",
            "0               total_cases_per_million   2.868006\n",
            "1              total_deaths_per_million   7.374552\n",
            "2                     reproduction_rate   2.375893\n",
            "3              total_tests_per_thousand   3.639772\n",
            "4                        total_boosters   2.080603\n",
            "5   people_fully_vaccinated_per_hundred   5.159506\n",
            "6            total_boosters_per_hundred   5.377046\n",
            "7                    population_density   2.902122\n",
            "8                         aged_70_older   4.682657\n",
            "9                        gdp_per_capita   2.684808\n",
            "10                cardiovasc_death_rate   7.842778\n",
            "11                  diabetes_prevalence  10.907799\n",
            "12                       female_smokers   3.944879\n",
            "13           hospital_beds_per_thousand   2.997350\n",
            "14                      life_expectancy   5.464984\n",
            "15         avg_icu_patients_per_million   7.128110\n",
            "16        avg_hosp_patients_per_million   8.286310\n",
            "17                    avg_positive_rate   7.820561\n",
            "18                   avg_tests_per_case   1.673016\n",
            "19                 avg_stringency_index   3.465078\n"
          ]
        }
      ]
    },
    {
      "cell_type": "code",
      "source": [
        "temp[temp.columns].corr()['excess_mortality_cumulative_per_million'][:]"
      ],
      "metadata": {
        "colab": {
          "base_uri": "https://localhost:8080/"
        },
        "id": "xJx5FH2wnm6q",
        "outputId": "a7277286-5741-4ef3-9a68-29d99790b51a"
      },
      "execution_count": null,
      "outputs": [
        {
          "output_type": "execute_result",
          "data": {
            "text/plain": [
              "excess_mortality_cumulative_per_million    1.000000\n",
              "total_deaths                               0.103670\n",
              "total_cases_per_million                   -0.006041\n",
              "total_deaths_per_million                   0.744341\n",
              "reproduction_rate                         -0.363262\n",
              "total_tests                                0.005541\n",
              "total_tests_per_thousand                  -0.104066\n",
              "total_vaccinations                        -0.109827\n",
              "people_vaccinated                         -0.086993\n",
              "people_fully_vaccinated                   -0.104344\n",
              "total_boosters                            -0.143367\n",
              "total_vaccinations_per_hundred            -0.593401\n",
              "people_vaccinated_per_hundred             -0.588833\n",
              "people_fully_vaccinated_per_hundred       -0.535462\n",
              "total_boosters_per_hundred                -0.446508\n",
              "population_density                        -0.211617\n",
              "median_age                                 0.044356\n",
              "aged_65_older                              0.027152\n",
              "aged_70_older                              0.008546\n",
              "gdp_per_capita                            -0.536912\n",
              "cardiovasc_death_rate                      0.799952\n",
              "diabetes_prevalence                        0.118142\n",
              "female_smokers                             0.497510\n",
              "male_smokers                               0.455250\n",
              "hospital_beds_per_thousand                 0.081135\n",
              "life_expectancy                           -0.597596\n",
              "human_development_index                   -0.538116\n",
              "avg_icu_patients                           0.047554\n",
              "avg_icu_patients_per_million               0.342657\n",
              "avg_hosp_patients                          0.083627\n",
              "avg_hosp_patients_per_million              0.805354\n",
              "avg_positive_rate                          0.069168\n",
              "avg_tests_per_case                        -0.193465\n",
              "avg_stringency_index                      -0.208699\n",
              "Name: excess_mortality_cumulative_per_million, dtype: float64"
            ]
          },
          "metadata": {},
          "execution_count": 644
        }
      ]
    },
    {
      "cell_type": "markdown",
      "source": [
        "## Построение регресии"
      ],
      "metadata": {
        "id": "y5M9KOr_h20U"
      }
    },
    {
      "cell_type": "code",
      "source": [
        "import statsmodels.api as sm"
      ],
      "metadata": {
        "id": "AOqRmm5ePtv_"
      },
      "execution_count": null,
      "outputs": []
    },
    {
      "cell_type": "code",
      "source": [
        "# defining the variables\n",
        "y = data_processed['excess_mortality_cumulative_per_million']\n",
        "x = temp[['total_deaths_per_million', 'people_fully_vaccinated_per_hundred',\n",
        "       'gdp_per_capita', 'female_smokers', 'life_expectancy', 'avg_icu_patients_per_million',\n",
        "       'avg_hosp_patients_per_million']]"
      ],
      "metadata": {
        "id": "Cw3dO0WxzCiG"
      },
      "execution_count": null,
      "outputs": []
    },
    {
      "cell_type": "code",
      "source": [
        "x = sm.add_constant(x)"
      ],
      "metadata": {
        "colab": {
          "base_uri": "https://localhost:8080/"
        },
        "id": "lyQvcKvD0f44",
        "outputId": "0fdf55bb-1322-4136-fb50-41c1bd08a8cd"
      },
      "execution_count": null,
      "outputs": [
        {
          "output_type": "stream",
          "name": "stderr",
          "text": [
            "/usr/local/lib/python3.7/dist-packages/statsmodels/tsa/tsatools.py:142: FutureWarning: In a future version of pandas all arguments of concat except for the argument 'objs' will be keyword-only\n",
            "  x = pd.concat(x[::order], 1)\n"
          ]
        }
      ]
    },
    {
      "cell_type": "code",
      "source": [
        "from statsmodels.stats.outliers_influence import variance_inflation_factor\n",
        "  \n",
        "# VIF dataframe\n",
        "vif_data = pd.DataFrame()\n",
        "vif_data[\"feature\"] = x.columns\n",
        "  \n",
        "# calculating VIF for each feature\n",
        "vif_data[\"VIF\"] = [variance_inflation_factor(x.values, i)\n",
        "                          for i in range(len(x.columns))]\n",
        "  \n",
        "print(vif_data)"
      ],
      "metadata": {
        "colab": {
          "base_uri": "https://localhost:8080/"
        },
        "id": "pxQ6xsAOZiYp",
        "outputId": "6d23acf0-7725-40d2-a07b-3d6f57dd44b9"
      },
      "execution_count": null,
      "outputs": [
        {
          "output_type": "stream",
          "name": "stdout",
          "text": [
            "                               feature       VIF\n",
            "0                                const  1.000000\n",
            "1             total_deaths_per_million  4.465130\n",
            "2  people_fully_vaccinated_per_hundred  2.128437\n",
            "3                       gdp_per_capita  2.004819\n",
            "4                       female_smokers  1.951261\n",
            "5                      life_expectancy  2.756838\n",
            "6         avg_icu_patients_per_million  2.661682\n",
            "7        avg_hosp_patients_per_million  3.194105\n"
          ]
        }
      ]
    },
    {
      "cell_type": "code",
      "source": [
        "# performing the regression\n",
        "# and fitting the model\n",
        "result = sm.OLS(y, x).fit()\n",
        " \n",
        "# printing the summary table\n",
        "print(result.summary())"
      ],
      "metadata": {
        "colab": {
          "base_uri": "https://localhost:8080/"
        },
        "id": "uV8nj9QxzC-C",
        "outputId": "89ff6aff-2e14-4e2a-e207-2c083ee72761"
      },
      "execution_count": null,
      "outputs": [
        {
          "output_type": "stream",
          "name": "stdout",
          "text": [
            "                                       OLS Regression Results                                      \n",
            "===================================================================================================\n",
            "Dep. Variable:     excess_mortality_cumulative_per_million   R-squared:                       0.925\n",
            "Model:                                                 OLS   Adj. R-squared:                  0.907\n",
            "Method:                                      Least Squares   F-statistic:                     52.81\n",
            "Date:                                     Tue, 23 Aug 2022   Prob (F-statistic):           3.88e-15\n",
            "Time:                                             19:10:00   Log-Likelihood:                -297.24\n",
            "No. Observations:                                       38   AIC:                             610.5\n",
            "Df Residuals:                                           30   BIC:                             623.6\n",
            "Df Model:                                                7                                         \n",
            "Covariance Type:                                 nonrobust                                         \n",
            "=======================================================================================================\n",
            "                                          coef    std err          t      P>|t|      [0.025      0.975]\n",
            "-------------------------------------------------------------------------------------------------------\n",
            "const                                2191.6900    110.221     19.885      0.000    1966.589    2416.791\n",
            "total_deaths_per_million                0.9480      0.209      4.528      0.000       0.520       1.376\n",
            "people_fully_vaccinated_per_hundred   -18.5569      8.903     -2.084      0.046     -36.739      -0.375\n",
            "gdp_per_capita                         -0.0288      0.010     -2.956      0.006      -0.049      -0.009\n",
            "female_smokers                         85.0287     18.998      4.476      0.000      46.229     123.829\n",
            "life_expectancy                      -114.6749     45.703     -2.509      0.018    -208.012     -21.338\n",
            "avg_icu_patients_per_million          -56.4653     12.392     -4.556      0.000     -81.774     -31.157\n",
            "avg_hosp_patients_per_million           6.7843      2.199      3.086      0.004       2.294      11.275\n",
            "==============================================================================\n",
            "Omnibus:                        0.099   Durbin-Watson:                   1.711\n",
            "Prob(Omnibus):                  0.952   Jarque-Bera (JB):                0.225\n",
            "Skew:                          -0.108   Prob(JB):                        0.894\n",
            "Kurtosis:                       2.691   Cond. No.                     1.60e+04\n",
            "==============================================================================\n",
            "\n",
            "Notes:\n",
            "[1] Standard Errors assume that the covariance matrix of the errors is correctly specified.\n",
            "[2] The condition number is large, 1.6e+04. This might indicate that there are\n",
            "strong multicollinearity or other numerical problems.\n"
          ]
        }
      ]
    },
    {
      "cell_type": "code",
      "source": [
        "# Store values for checking homoskedasticity graphically\n",
        "fittedvals_OLS = result.predict()\n",
        "residuals_OLS = result.resid"
      ],
      "metadata": {
        "id": "XTLIjSSs3ZTB"
      },
      "execution_count": null,
      "outputs": []
    },
    {
      "cell_type": "code",
      "source": [
        "fig, ax = plt.subplots()\n",
        "ax.scatter(fittedvals_OLS, residuals_OLS, color = \"blue\")\n",
        "ax.axhline(0, color = 'r', ls = '--')\n",
        "ax.set_xlabel(\"Predicted Values\", fontsize = 15)\n",
        "ax.set_ylabel(\"Residuals\", fontsize = 15)\n",
        "ax.set_title(\"Homoskedasticity Test\", fontsize = 30)\n",
        "plt.show()"
      ],
      "metadata": {
        "colab": {
          "base_uri": "https://localhost:8080/",
          "height": 313
        },
        "id": "GxOklI5I4rAU",
        "outputId": "32a9e0ea-fb7b-4378-ea55-7d92e5c99b99"
      },
      "execution_count": null,
      "outputs": [
        {
          "output_type": "display_data",
          "data": {
            "text/plain": [
              "<Figure size 432x288 with 1 Axes>"
            ],
            "image/png": "[encoded data removed]"
          },
          "metadata": {
            "needs_background": "light"
          }
        }
      ]
    },
    {
      "cell_type": "code",
      "source": [
        "from statsmodels.stats.diagnostic import het_breuschpagan\n",
        "# 3A.3 Breusch-Pagan-Test\n",
        "breusch_pagan_test_results = het_breuschpagan(residuals_OLS, x)\n",
        "labels = [\"LM-Stat\", \"LM p-val\", \"F-Stat\", \"F p-val\"] \n",
        "print(dict(zip(labels, breusch_pagan_test_results)))"
      ],
      "metadata": {
        "colab": {
          "base_uri": "https://localhost:8080/"
        },
        "id": "vPGTKs7Y407X",
        "outputId": "ff6633ad-e2d9-4e43-ec8a-826822ac96e8"
      },
      "execution_count": null,
      "outputs": [
        {
          "output_type": "stream",
          "name": "stdout",
          "text": [
            "{'LM-Stat': 5.503883498019025, 'LM p-val': 0.5987154884770902, 'F-Stat': 0.7258735711674754, 'F p-val': 0.6513003099355507}\n"
          ]
        }
      ]
    }
  ]
}